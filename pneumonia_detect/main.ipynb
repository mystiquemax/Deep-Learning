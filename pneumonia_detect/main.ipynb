{
 "cells": [
  {
   "cell_type": "markdown",
   "metadata": {},
   "source": [
    "# Using pretrained model (VGG16) for pneumonia detection"
   ]
  },
  {
   "cell_type": "markdown",
   "metadata": {},
   "source": [
    "Load the model and define paths to data"
   ]
  },
  {
   "cell_type": "code",
   "execution_count": 7,
   "metadata": {},
   "outputs": [],
   "source": [
    "from keras.models import Model\n",
    "from keras.layers import Flatten, Dense\n",
    "from keras.applications.vgg16 import VGG16\n",
    "import matplotlib.pyplot as plt\n",
    "from glob import glob\n",
    "from tensorflow.keras.preprocessing.image import ImageDataGenerator\n",
    "\n",
    "IMAGESHAPE = [224, 224, 3] \n",
    "vgg_model = VGG16(input_shape=IMAGESHAPE, weights='imagenet', include_top=False)\n",
    "\n",
    "for each_layer in vgg_model.layers:\n",
    "    each_layer.trainable = False\n",
    "\n",
    "training_data = 'chest_xray/train'\n",
    "testing_data = 'chest_xray/test'\n",
    "\n",
    "\n",
    "classes = glob(f'{training_data}/*')"
   ]
  },
  {
   "cell_type": "markdown",
   "metadata": {},
   "source": [
    "Add flattening and prediction layers and create the model"
   ]
  },
  {
   "cell_type": "code",
   "execution_count": 8,
   "metadata": {},
   "outputs": [
    {
     "name": "stdout",
     "output_type": "stream",
     "text": [
      "Model: \"model_2\"\n",
      "_________________________________________________________________\n",
      "Layer (type)                 Output Shape              Param #   \n",
      "=================================================================\n",
      "input_3 (InputLayer)         [(None, 224, 224, 3)]     0         \n",
      "_________________________________________________________________\n",
      "block1_conv1 (Conv2D)        (None, 224, 224, 64)      1792      \n",
      "_________________________________________________________________\n",
      "block1_conv2 (Conv2D)        (None, 224, 224, 64)      36928     \n",
      "_________________________________________________________________\n",
      "block1_pool (MaxPooling2D)   (None, 112, 112, 64)      0         \n",
      "_________________________________________________________________\n",
      "block2_conv1 (Conv2D)        (None, 112, 112, 128)     73856     \n",
      "_________________________________________________________________\n",
      "block2_conv2 (Conv2D)        (None, 112, 112, 128)     147584    \n",
      "_________________________________________________________________\n",
      "block2_pool (MaxPooling2D)   (None, 56, 56, 128)       0         \n",
      "_________________________________________________________________\n",
      "block3_conv1 (Conv2D)        (None, 56, 56, 256)       295168    \n",
      "_________________________________________________________________\n",
      "block3_conv2 (Conv2D)        (None, 56, 56, 256)       590080    \n",
      "_________________________________________________________________\n",
      "block3_conv3 (Conv2D)        (None, 56, 56, 256)       590080    \n",
      "_________________________________________________________________\n",
      "block3_pool (MaxPooling2D)   (None, 28, 28, 256)       0         \n",
      "_________________________________________________________________\n",
      "block4_conv1 (Conv2D)        (None, 28, 28, 512)       1180160   \n",
      "_________________________________________________________________\n",
      "block4_conv2 (Conv2D)        (None, 28, 28, 512)       2359808   \n",
      "_________________________________________________________________\n",
      "block4_conv3 (Conv2D)        (None, 28, 28, 512)       2359808   \n",
      "_________________________________________________________________\n",
      "block4_pool (MaxPooling2D)   (None, 14, 14, 512)       0         \n",
      "_________________________________________________________________\n",
      "block5_conv1 (Conv2D)        (None, 14, 14, 512)       2359808   \n",
      "_________________________________________________________________\n",
      "block5_conv2 (Conv2D)        (None, 14, 14, 512)       2359808   \n",
      "_________________________________________________________________\n",
      "block5_conv3 (Conv2D)        (None, 14, 14, 512)       2359808   \n",
      "_________________________________________________________________\n",
      "block5_pool (MaxPooling2D)   (None, 7, 7, 512)         0         \n",
      "_________________________________________________________________\n",
      "flatten_2 (Flatten)          (None, 25088)             0         \n",
      "_________________________________________________________________\n",
      "dense_2 (Dense)              (None, 2)                 50178     \n",
      "=================================================================\n",
      "Total params: 14,764,866\n",
      "Trainable params: 50,178\n",
      "Non-trainable params: 14,714,688\n",
      "_________________________________________________________________\n"
     ]
    }
   ],
   "source": [
    "# Add flattening and prediction layers\n",
    "flatten_layer = Flatten()(vgg_model.output)\n",
    "prediction = Dense(len(classes), activation='softmax')(flatten_layer)\n",
    "\n",
    "# Create final model\n",
    "final_model = Model(inputs=vgg_model.input, outputs=prediction)\n",
    "final_model.summary()"
   ]
  },
  {
   "cell_type": "markdown",
   "metadata": {},
   "source": [
    "Compile the model and load the data"
   ]
  },
  {
   "cell_type": "code",
   "execution_count": 9,
   "metadata": {},
   "outputs": [
    {
     "name": "stdout",
     "output_type": "stream",
     "text": [
      "Training set:\n",
      "Found 661 images belonging to 2 classes.\n",
      "Test set:\n",
      "Found 440 images belonging to 2 classes.\n",
      "Epoch 1/5\n",
      "166/166 [==============================] - 284s 2s/step - loss: 0.3827 - accuracy: 0.8865 - val_loss: 0.9060 - val_accuracy: 0.7750\n",
      "Epoch 2/5\n",
      "166/166 [==============================] - 261s 2s/step - loss: 0.1653 - accuracy: 0.9470 - val_loss: 0.8259 - val_accuracy: 0.8227\n",
      "Epoch 3/5\n",
      "166/166 [==============================] - 245s 1s/step - loss: 0.2792 - accuracy: 0.9289 - val_loss: 0.6539 - val_accuracy: 0.8545\n",
      "Epoch 4/5\n",
      "166/166 [==============================] - 240s 1s/step - loss: 0.1537 - accuracy: 0.9637 - val_loss: 0.5988 - val_accuracy: 0.8455\n",
      "Epoch 5/5\n",
      "166/166 [==============================] - 232s 1s/step - loss: 0.1400 - accuracy: 0.9637 - val_loss: 0.7452 - val_accuracy: 0.8318\n"
     ]
    }
   ],
   "source": [
    "# Compile the model with Adam optimizer and categorical crossentropy loss\n",
    "final_model.compile(\n",
    "    loss='categorical_crossentropy',\n",
    "    optimizer='adam',\n",
    "    metrics=['accuracy']\n",
    ")\n",
    "\n",
    "# Prepare the data generators for training and testing datasets\n",
    "train_datagen = ImageDataGenerator(\n",
    "    rescale=1./255,\n",
    "    shear_range=0.2,\n",
    "    zoom_range=0.2,\n",
    "    horizontal_flip=True\n",
    ")\n",
    "\n",
    "test_datagen = ImageDataGenerator(rescale=1./255)\n",
    "\n",
    "# Load images from the directories\n",
    "print(\"Training set:\")\n",
    "training_set = train_datagen.flow_from_directory(\n",
    "    training_data,\n",
    "    target_size=(224, 224),\n",
    "    batch_size=4,\n",
    "    class_mode='categorical'\n",
    ")\n",
    "\n",
    "\n",
    "print(\"Test set:\")\n",
    "test_set = test_datagen.flow_from_directory(\n",
    "    testing_data,\n",
    "    target_size=(224, 224),\n",
    "    batch_size=4,\n",
    "    class_mode='categorical'\n",
    ")\n",
    "\n",
    "# Fit the model\n",
    "fitted_model = final_model.fit(\n",
    "    training_set,\n",
    "    validation_data=test_set,\n",
    "    epochs=5,\n",
    "    steps_per_epoch=len(training_set),\n",
    "    validation_steps=len(test_set)\n",
    ")"
   ]
  },
  {
   "cell_type": "markdown",
   "metadata": {},
   "source": [
    "Plot the results and save the model"
   ]
  },
  {
   "cell_type": "code",
   "execution_count": 10,
   "metadata": {},
   "outputs": [
    {
     "data": {
      "image/png": "[encoded data removed]",
      "text/plain": [
       "<Figure size 432x288 with 1 Axes>"
      ]
     },
     "metadata": {
      "needs_background": "light"
     },
     "output_type": "display_data"
    },
    {
     "data": {
      "image/png": "[encoded data removed]",
      "text/plain": [
       "<Figure size 432x288 with 1 Axes>"
      ]
     },
     "metadata": {
      "needs_background": "light"
     },
     "output_type": "display_data"
    }
   ],
   "source": [
    "# Plot training and validation loss\n",
    "plt.plot(fitted_model.history['loss'], label='Training Loss')\n",
    "plt.plot(fitted_model.history['val_loss'], label='Validation Loss')\n",
    "plt.legend()\n",
    "plt.title('Loss vs Epochs')\n",
    "plt.xlabel('Epochs')\n",
    "plt.ylabel('Loss')\n",
    "plt.show()\n",
    "\n",
    "# Plot training and validation accuracy\n",
    "plt.plot(fitted_model.history['accuracy'], label='Training Accuracy')\n",
    "plt.plot(fitted_model.history['val_accuracy'], label='Validation Accuracy')\n",
    "plt.legend()\n",
    "plt.title('Accuracy vs Epochs')\n",
    "plt.xlabel('Epochs')\n",
    "plt.ylabel('Accuracy')\n",
    "plt.show()\n",
    "\n",
    "# Save the model\n",
    "final_model.save('my_model.h5')"
   ]
  },
  {
   "cell_type": "markdown",
   "metadata": {},
   "source": [
    "Test the model"
   ]
  },
  {
   "cell_type": "code",
   "execution_count": 12,
   "metadata": {},
   "outputs": [
    {
     "name": "stdout",
     "output_type": "stream",
     "text": [
      "Prediction: Person is affected.\n",
      "Raw Predictions: [[0. 1.]]\n"
     ]
    }
   ],
   "source": [
    "from keras.preprocessing import image\n",
    "from keras.models import load_model\n",
    "from keras.applications.vgg16 import preprocess_input\n",
    "import numpy as np\n",
    "\n",
    "model = load_model('my_model.h5')\n",
    "\n",
    "img_path = 'chest_xray/test/PNEUMONIA/person100_bacteria_480.jpeg'\n",
    "img = image.load_img(img_path, target_size=(224, 224)) \n",
    "\n",
    "img_array = image.img_to_array(img)\n",
    "img_array = np.expand_dims(img_array, axis=0)\n",
    "\n",
    "img_data = preprocess_input(img_array)\n",
    "\n",
    "prediction = model.predict(img_data)\n",
    "\n",
    "if prediction[0][0] > prediction[0][1]:\n",
    "    print('Prediction: Person is safe.')\n",
    "else:\n",
    "    print('Prediction: Person is affected.')\n",
    "\n",
    "print(f'Raw Predictions: {prediction}')"
   ]
  }
 ],
 "metadata": {
  "kernelspec": {
   "display_name": "Python 3",
   "language": "python",
   "name": "python3"
  },
  "language_info": {
   "codemirror_mode": {
    "name": "ipython",
    "version": 3
   },
   "file_extension": ".py",
   "mimetype": "text/x-python",
   "name": "python",
   "nbconvert_exporter": "python",
   "pygments_lexer": "ipython3",
   "version": "3.6.9"
  }
 },
 "nbformat": 4,
 "nbformat_minor": 2
}
